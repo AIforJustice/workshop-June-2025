{
 "cells": [
  {
   "cell_type": "markdown",
   "metadata": {},
   "source": [
    "# Understanding Text Embeddings: A Beginner's Guide\n",
    "\n",
    "This notebook shows you how to turn words and sentences into numbers that computers can understand, then visualize them on a simple 2D plot."
   ]
  },
  {
   "cell_type": "markdown",
   "metadata": {},
   "source": [
    "## What Are Text Embeddings?\n",
    "\n",
    "**Text embeddings** convert words or sentences into lists of numbers. Think of it like giving each word coordinates on a map - similar words get similar coordinates and end up close together.\n",
    "\n",
    "**Why is this useful?**\n",
    "- Words like \"dog\" and \"cat\" will be close together (both are pets)\n",
    "- Words like \"hot\" and \"cold\" will be far apart (opposites)\n",
    "- This helps computers understand language better"
   ]
  },
  {
   "cell_type": "markdown",
   "metadata": {},
   "source": [
    "## Step 1: Install and Import What We Need"
   ]
  },
  {
   "cell_type": "code",
   "execution_count": null,
   "metadata": {},
   "outputs": [],
   "source": [
    "# Install required packages (uncomment if needed)\n",
    "# !pip install sentence-transformers scikit-learn matplotlib pandas seaborn"
   ]
  },
  {
   "cell_type": "code",
   "execution_count": null,
   "metadata": {},
   "outputs": [],
   "source": [
    "# Import the tools we need\n",
    "import numpy as np\n",
    "import pandas as pd\n",
    "import matplotlib.pyplot as plt\n",
    "import seaborn as sns\n",
    "from sentence_transformers import SentenceTransformer\n",
    "from sklearn.manifold import TSNE\n",
    "\n",
    "# Make our plots look nice\n",
    "sns.set_style('whitegrid')\n",
    "plt.rcParams['figure.figsize'] = (10, 8)"
   ]
  },
  {
   "cell_type": "markdown",
   "metadata": {},
   "source": [
    "## Step 2: Visualizing Word Embeddings\n",
    "\n",
    "Let's start with simple words from different categories and see how they group together."
   ]
  },
  {
   "cell_type": "code",
   "execution_count": null,
   "metadata": {},
   "outputs": [],
   "source": [
    "# Load a model that can convert text to numbers\n",
    "model = SentenceTransformer('all-MiniLM-L6-v2')\n",
    "print(\"Model loaded successfully!\")"
   ]
  },
  {
   "cell_type": "code",
   "execution_count": null,
   "metadata": {},
   "outputs": [],
   "source": [
    "# Choose words from different categories\n",
    "words = [\n",
    "    # Animals\n",
    "    \"dog\", \"cat\", \"horse\", \"lion\", \"elephant\",\n",
    "    # Fruits  \n",
    "    \"apple\", \"banana\", \"orange\", \"strawberry\", \"watermelon\",\n",
    "    # Countries\n",
    "    \"usa\", \"canada\", \"france\", \"japan\", \"australia\", \n",
    "    # Technology\n",
    "    \"computer\", \"phone\", \"internet\", \"software\", \"data\"\n",
    "]\n",
    "\n",
    "# Labels for our categories (same order as words above)\n",
    "categories = [\"Animal\"]*5 + [\"Fruit\"]*5 + [\"Country\"]*5 + [\"Technology\"]*5\n",
    "\n",
    "print(f\"We have {len(words)} words to visualize\")"
   ]
  },
  {
   "cell_type": "code",
   "execution_count": null,
   "metadata": {},
   "outputs": [],
   "source": [
    "# Convert words to numbers (embeddings)\n",
    "word_embeddings = model.encode(words)\n",
    "print(f\"Each word is now represented by {word_embeddings.shape[1]} numbers\")\n",
    "print(f\"That's too many dimensions to visualize, so we'll reduce it to 2D\")"
   ]
  },
  {
   "cell_type": "markdown",
   "metadata": {},
   "source": [
    "it may be easier first to visualize them on https://projector.tensorflow.org/. Let save our data so that we can upload them on this website."
   ]
  },
  {
   "cell_type": "code",
   "execution_count": null,
   "metadata": {},
   "outputs": [],
   "source": [
    "# Save word embeddings as vectors file (TSV format)\n",
    "word_vectors_df = pd.DataFrame(word_embeddings)\n",
    "word_vectors_df.to_csv('word_vectors.tsv', sep='\\t', header=False, index=False)\n",
    "print(\"✓ Saved word_vectors.tsv\")\n",
    "\n",
    "# Save word labels and categories as metadata file  \n",
    "word_metadata_df = pd.DataFrame({\n",
    "    'Label': words,\n",
    "    'Category': categories\n",
    "})\n",
    "word_metadata_df.to_csv('word_metadata.tsv', sep='\\t', index=False)\n",
    "print(\"✓ Saved word_metadata.tsv\")"
   ]
  },
  {
   "cell_type": "markdown",
   "metadata": {},
   "source": [
    "Now, let us visualize the embeddings with t-SNE here."
   ]
  },
  {
   "cell_type": "code",
   "execution_count": null,
   "metadata": {},
   "outputs": [],
   "source": [
    "# Reduce from many dimensions to just 2 (so we can plot it)\n",
    "# t-SNE is a technique that keeps similar items close together\n",
    "tsne = TSNE(n_components=2, perplexity=5, random_state=42)\n",
    "word_2d = tsne.fit_transform(word_embeddings)\n",
    "print(\"Successfully reduced to 2D coordinates!\")"
   ]
  },
  {
   "cell_type": "code",
   "execution_count": null,
   "metadata": {},
   "outputs": [],
   "source": [
    "# Create a simple plot\n",
    "plt.figure(figsize=(12, 8))\n",
    "\n",
    "# Choose colors for each category\n",
    "colors = {\"Animal\": \"blue\", \"Fruit\": \"orange\", \"Country\": \"green\", \"Technology\": \"red\"}\n",
    "\n",
    "# Plot each category with its own color\n",
    "for category in colors:\n",
    "    # Find words that belong to this category\n",
    "    mask = [cat == category for cat in categories]\n",
    "    category_points = word_2d[mask]\n",
    "    \n",
    "    # Plot them\n",
    "    plt.scatter(category_points[:, 0], category_points[:, 1], \n",
    "               c=colors[category], label=category, alpha=0.7, s=100)\n",
    "\n",
    "# Add word labels to each point\n",
    "for i, word in enumerate(words):\n",
    "    plt.annotate(word, (word_2d[i, 0], word_2d[i, 1]), \n",
    "                xytext=(5, 5), textcoords='offset points', fontsize=10)\n",
    "\n",
    "plt.title(\"Word Embeddings Visualization\", fontsize=16)\n",
    "plt.legend()\n",
    "plt.grid(True, alpha=0.3)\n",
    "plt.show()\n",
    "\n",
    "print(\"\\nWhat to notice:\")\n",
    "print(\"- Words from the same category should be close together\")\n",
    "print(\"- Similar words should be near each other\")\n",
    "print(\"- Different categories should be in different areas\")"
   ]
  },
  {
   "cell_type": "markdown",
   "metadata": {},
   "source": [
    "## Step 3: Visualizing Sentence Embeddings\n",
    "\n",
    "Now let's try with full sentences instead of just words."
   ]
  },
  {
   "cell_type": "code",
   "execution_count": null,
   "metadata": {},
   "outputs": [],
   "source": [
    "# Create sentences about different topics\n",
    "sentences = [\n",
    "    # Technology\n",
    "    \"I love using my smartphone every day\",\n",
    "    \"Computers make our work much easier\", \n",
    "    \"The internet connects people worldwide\",\n",
    "    \n",
    "    # Food\n",
    "    \"Pizza is my favorite dinner\",\n",
    "    \"Fresh fruit tastes amazing in summer\",\n",
    "    \"Cooking at home saves money\",\n",
    "    \n",
    "    # Sports  \n",
    "    \"Playing soccer keeps me healthy\",\n",
    "    \"Swimming is great exercise for your whole body\",\n",
    "    \"I enjoy watching basketball games\",\n",
    "    \n",
    "    # Weather\n",
    "    \"It's raining heavily outside today\",\n",
    "    \"Sunny days make me feel happy\", \n",
    "    \"Winter snow is beautiful but cold\"\n",
    "]\n",
    "\n",
    "# Labels for sentence topics\n",
    "sentence_topics = [\"Technology\"]*3 + [\"Food\"]*3 + [\"Sports\"]*3 + [\"Weather\"]*3\n",
    "\n",
    "print(f\"We have {len(sentences)} sentences to visualize\")"
   ]
  },
  {
   "cell_type": "code",
   "execution_count": null,
   "metadata": {},
   "outputs": [],
   "source": [
    "# Convert sentences to numbers\n",
    "sentence_embeddings = model.encode(sentences)\n",
    "print(f\"Each sentence is now represented by {sentence_embeddings.shape[1]} numbers\")"
   ]
  },
  {
   "cell_type": "code",
   "execution_count": null,
   "metadata": {},
   "outputs": [],
   "source": [
    "# Save sentence embeddings as vectors file\n",
    "sentence_vectors_df = pd.DataFrame(sentence_embeddings)\n",
    "sentence_vectors_df.to_csv('sentence_vectors.tsv', sep='\\t', header=False, index=False)\n",
    "print(\"✓ Saved sentence_vectors.tsv\")\n",
    "\n",
    "# Save sentence labels and categories as metadata file\n",
    "sentence_labels = [f\"S{i+1}: {sent}\" for i, sent in enumerate(sentences)]\n",
    "sentence_metadata_df = pd.DataFrame({\n",
    "    'Label': sentence_labels,\n",
    "    'Category': sentence_topics\n",
    "})\n",
    "sentence_metadata_df.to_csv('sentence_metadata.tsv', sep='\\t', index=False)\n",
    "print(\"✓ Saved sentence_metadata.tsv\")"
   ]
  },
  {
   "cell_type": "code",
   "execution_count": null,
   "metadata": {},
   "outputs": [],
   "source": [
    "# Reduce to 2D for plotting\n",
    "tsne = TSNE(n_components=2, perplexity=4, random_state=42)\n",
    "sentence_2d = tsne.fit_transform(sentence_embeddings)\n",
    "print(\"Reduced sentences to 2D coordinates!\")"
   ]
  },
  {
   "cell_type": "code",
   "execution_count": null,
   "metadata": {},
   "outputs": [],
   "source": [
    "# Plot the sentences\n",
    "plt.figure(figsize=(12, 10))\n",
    "\n",
    "# Colors for each topic\n",
    "topic_colors = {\"Technology\": \"blue\", \"Food\": \"orange\", \"Sports\": \"green\", \"Weather\": \"purple\"}\n",
    "\n",
    "# Plot each topic with its own color\n",
    "for topic in topic_colors:\n",
    "    mask = [t == topic for t in sentence_topics]\n",
    "    topic_points = sentence_2d[mask]\n",
    "    \n",
    "    plt.scatter(topic_points[:, 0], topic_points[:, 1], \n",
    "               c=topic_colors[topic], label=topic, alpha=0.7, s=120)\n",
    "\n",
    "# Add numbers to each point\n",
    "for i in range(len(sentences)):\n",
    "    plt.annotate(str(i+1), (sentence_2d[i, 0], sentence_2d[i, 1]), \n",
    "                xytext=(0, 0), textcoords='offset points', \n",
    "                fontsize=12, fontweight='bold', ha='center', va='center')\n",
    "\n",
    "plt.title(\"Sentence Embeddings Visualization\", fontsize=16)\n",
    "plt.legend()\n",
    "plt.grid(True, alpha=0.3)\n",
    "plt.show()\n",
    "\n",
    "# Show which number corresponds to which sentence\n",
    "print(\"\\nSentence Reference:\")\n",
    "for i, sentence in enumerate(sentences):\n",
    "    print(f\"{i+1}. {sentence}\")\n",
    "\n",
    "print(\"\\nWhat to notice:\")\n",
    "print(\"- Sentences about the same topic should cluster together\")\n",
    "print(\"- Similar sentences should be close to each other\")\n",
    "print(\"- The model understands meaning, not just words\")"
   ]
  },
  {
   "cell_type": "markdown",
   "metadata": {},
   "source": [
    "## Step 4: Try Your Own Words or Sentences!\n",
    "\n",
    "Now you can experiment with your own text:"
   ]
  },
  {
   "cell_type": "code",
   "execution_count": null,
   "metadata": {},
   "outputs": [],
   "source": [
    "# Add your own words here!\n",
    "my_words = [\n",
    "    \"happy\", \"sad\", \"angry\", \"excited\",  # emotions\n",
    "    \"red\", \"blue\", \"green\", \"yellow\",    # colors\n",
    "    \"big\", \"small\", \"huge\", \"tiny\"       # sizes\n",
    "]\n",
    "\n",
    "my_categories = [\"Emotion\"]*4 + [\"Color\"]*4 + [\"Size\"]*4\n",
    "\n",
    "# Convert to embeddings and reduce to 2D\n",
    "my_embeddings = model.encode(my_words)\n",
    "tsne = TSNE(n_components=2, perplexity=3, random_state=42)\n",
    "my_2d = tsne.fit_transform(my_embeddings)\n",
    "\n",
    "# Simple plot\n",
    "plt.figure(figsize=(10, 8))\n",
    "colors = {\"Emotion\": \"red\", \"Color\": \"blue\", \"Size\": \"green\"}\n",
    "\n",
    "for category in colors:\n",
    "    mask = [cat == category for cat in my_categories]\n",
    "    points = my_2d[mask]\n",
    "    plt.scatter(points[:, 0], points[:, 1], c=colors[category], label=category, s=100)\n",
    "\n",
    "for i, word in enumerate(my_words):\n",
    "    plt.annotate(word, (my_2d[i, 0], my_2d[i, 1]), \n",
    "                xytext=(5, 5), textcoords='offset points')\n",
    "\n",
    "plt.title(\"My Custom Word Embeddings\")\n",
    "plt.legend()\n",
    "plt.grid(True, alpha=0.3)\n",
    "plt.show()"
   ]
  },
  {
   "cell_type": "markdown",
   "metadata": {},
   "source": [
    "## What We Learned\n",
    "\n",
    "1. **Text embeddings** turn words and sentences into numbers\n",
    "2. **Similar meanings** result in similar numbers  \n",
    "3. **t-SNE** helps us visualize high-dimensional data in 2D\n",
    "4. **Clustering** shows us how the AI groups related concepts\n",
    "\n",
    "### Try This Next:\n",
    "- Change the words in the examples above\n",
    "- Add more categories \n",
    "- Try sentences in different languages\n",
    "- See what happens with very similar sentences"
   ]
  }
 ],
 "metadata": {
  "kernelspec": {
   "display_name": "Hface",
   "language": "python",
   "name": "python3"
  },
  "language_info": {
   "codemirror_mode": {
    "name": "ipython",
    "version": 3
   },
   "file_extension": ".py",
   "mimetype": "text/x-python",
   "name": "python",
   "nbconvert_exporter": "python",
   "pygments_lexer": "ipython3",
   "version": "3.11.13"
  }
 },
 "nbformat": 4,
 "nbformat_minor": 4
}
